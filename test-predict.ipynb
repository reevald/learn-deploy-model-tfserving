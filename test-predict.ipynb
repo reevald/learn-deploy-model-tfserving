{
 "cells": [
  {
   "cell_type": "markdown",
   "metadata": {},
   "source": [
    "# Test Prediction"
   ]
  },
  {
   "cell_type": "code",
   "execution_count": 42,
   "metadata": {},
   "outputs": [],
   "source": [
    "import json\n",
    "import requests\n",
    "import numpy as np\n",
    "from PIL import Image\n",
    "\n",
    "def test_predict(path, endpoint):\n",
    "    img = Image.open(path)\n",
    "    img = img.resize((150, 150)) # Check your model input dimension\n",
    "\n",
    "    data = np.asarray(img)\n",
    "    data = np.expand_dims(data, axis=0)\n",
    "    json_data = json.dumps({\"instances\": data.tolist()})\n",
    "\n",
    "    response = requests.post(endpoint, data=json_data)\n",
    "    prediction = response.json()[\"predictions\"][0]\n",
    "    print(f\"Prediction from TFServing: {prediction}\")\n",
    "\n",
    "    list_class_name = [\n",
    "        \"Paper\",\n",
    "        \"Rock\",\n",
    "        \"Scissor\"\n",
    "    ]\n",
    "\n",
    "    index_class_predicted = np.argmax(prediction)\n",
    "    print(f\"Index class predicted: {index_class_predicted}\")\n",
    "    print(f\"Class name predicted: {list_class_name[index_class_predicted]}\")"
   ]
  },
  {
   "cell_type": "markdown",
   "metadata": {},
   "source": [
    "## TFServing Locally"
   ]
  },
  {
   "cell_type": "code",
   "execution_count": 43,
   "metadata": {},
   "outputs": [
    {
     "name": "stdout",
     "output_type": "stream",
     "text": [
      "Prediction from TFServing: [0.0, 0.0, 1.0]\n",
      "Index class predicted: 2\n",
      "Class name predicted: Scissor\n"
     ]
    }
   ],
   "source": [
    "test_predict(\n",
    "    path=\"sample_data/scissors.webp\",\n",
    "    endpoint =\"http://localhost:8080/v1/models/kertas-batu-gunting:predict\"\n",
    ")"
   ]
  },
  {
   "cell_type": "markdown",
   "metadata": {},
   "source": [
    "## TFServing with Cloud Run (GCP)"
   ]
  },
  {
   "cell_type": "code",
   "execution_count": null,
   "metadata": {},
   "outputs": [],
   "source": []
  }
 ],
 "metadata": {
  "kernelspec": {
   "display_name": "MLEnv",
   "language": "python",
   "name": "python3"
  },
  "language_info": {
   "codemirror_mode": {
    "name": "ipython",
    "version": 3
   },
   "file_extension": ".py",
   "mimetype": "text/x-python",
   "name": "python",
   "nbconvert_exporter": "python",
   "pygments_lexer": "ipython3",
   "version": "3.8.0"
  }
 },
 "nbformat": 4,
 "nbformat_minor": 2
}
